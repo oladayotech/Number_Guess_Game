import random

# while True:
number_to_guess = random.randint(1,10)
upper_bracket = [6,7,8,9,10]
attempts = 3

while True:
    # user_input = int(input("Guess a number between 1 and 10 \n"))

    def error_handling():
        while True:
            try:
               global user_input
               user_input = int(input("Guess a number between 1 and 10 using Digits \n"))
               return user_input
            except:
                print()
                print("You can only pick a number between 1 and 10 using Digits")
            
    error_handling()
    
    if user_input == number_to_guess:
        print("Congratulations! You guessed right")
        break
    elif user_input > 10 or user_input < 1:
        print()
        print("Guess between 1 and 10")
    # elif user_input:
    #     pass
    elif user_input != number_to_guess:
        for attempt in range(1):
            if number_to_guess in upper_bracket:
                print('It is a high number')
            else:
                print('Go lower')
        attempts -= 1
        print()
        print(f"{attempts} attempts left.")
        print("Oops, Try again")
        
    if user_input == number_to_guess or attempts == 0:
        print()
        user_input_2 = input("Do you wanna play again \n Type (Y) for Yes and (N) for NO: ")
        if user_input_2.lower() == 'n':
            print("Thank you for playing")
            break
        else:
            attempts += 2
